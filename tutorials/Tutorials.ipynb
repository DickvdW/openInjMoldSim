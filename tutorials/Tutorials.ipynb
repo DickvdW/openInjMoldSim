{
 "cells": [
  {
   "cell_type": "markdown",
   "metadata": {},
   "source": [
    "# Tutorials"
   ]
  },
  {
   "cell_type": "markdown",
   "metadata": {},
   "source": [
    "This [jupyter](http://jupyter.org/) notebook describes the tutorials (examples), supplied with `openInjMoldSim`.\n",
    "The `demo` example should serve as a starting point for developing injection molding simulations, i.e. changing the mesh and process parameters.\n",
    "It also presents an experimental validation of the predicted cavity pressure evolutions.\n",
    "The `test` examples are intended to numerically validate some important aspects of the solver."
   ]
  },
  {
   "cell_type": "markdown",
   "metadata": {},
   "source": [
    "## Demo"
   ]
  },
  {
   "cell_type": "markdown",
   "metadata": {},
   "source": [
    "An [experimental investigation (see paper)](http://rdcu.be/lfnt) of the injection molding process is modeled.\n",
    "This simulation case was also described in a [conference paper (in Slovenian)](http://www.drustvozamehaniko.si/zbornik/ZbornikKD2017.pdf).\n",
    "For a description of a similar experimental investigation with HDPE, see the [second paper](http://rdcu.be/uGWT).\n",
    "The HDPE investigation is not modeled in this repository."
   ]
  },
  {
   "cell_type": "markdown",
   "metadata": {},
   "source": [
    "![filling](demo/demo_geom.png)"
   ]
  },
  {
   "cell_type": "markdown",
   "metadata": {},
   "source": [
    "### Geometry"
   ]
  },
  {
   "cell_type": "markdown",
   "metadata": {},
   "source": [
    "The filling position in the model was not P0 (the feed system) but the P1 position which is in the cavity.\n",
    "This makes the domain simpler and excludes the modeling of the pressure drop at the gate, eliminating a possible source of uncertainty.\n",
    "\n",
    "![Selection_017.png](tutorials_img/Selection_017.png)\n",
    "\n",
    "The model uses a 2D description of the actual cavity and also assumes a uniform cavity thickness.\n",
    "Note, that the above image is schematic and the actual cavity is much more elongated.\n",
    "This allowed to create the mesh using the `blockMesh` utility with the simplest setup."
   ]
  },
  {
   "cell_type": "markdown",
   "metadata": {},
   "source": [
    "#### Changing the geometry"
   ]
  },
  {
   "cell_type": "markdown",
   "metadata": {},
   "source": [
    "To use a different geometry, either modify the [`constant/polyMesh/blockMeshDict`](demo/fill_pack/constant/polyMesh/blockMeshDict) file or supply a \"general\" mesh.\n",
    "One way to use a \"general\" mesh is to import an Ansys Fluent mesh.\n",
    "An example of doing this is demonstrated in the [wedgePlease](https://github.com/krebeljk/wedgePlease) repository.\n",
    "Not using the `blockMesh` utillity requires removing the call to `blockMesh` from the [`AllRun`](demo/fill_pack/AllRun) script.\n",
    "An `./AllMesh` call could be made from the [`AllRun`](demo/fill_pack/AllRun) script, where an `AllMesh` script could include a call to `fluentMeshToFoam`.\n",
    "Applying `openInjMoldSim` in practice might be feasible for an axi-symmetric model."
   ]
  },
  {
   "cell_type": "markdown",
   "metadata": {},
   "source": [
    "### Setup"
   ]
  },
  {
   "cell_type": "markdown",
   "metadata": {},
   "source": [
    "#### Material parameters"
   ]
  },
  {
   "cell_type": "markdown",
   "metadata": {},
   "source": [
    "`openInjMoldSim` models the polymer and the air but the air is very simplified.\n",
    "For the material parameters of either see the respective `thermophysicalProperties` files in the [`constant`](demo/fill_pack/constant) directory.\n",
    "Note, that the air viscosity is not realistic and neither is the air venting.\n",
    "The viscosity of the air was artificially increased to avoid the possible occurrence of turbulence and related convergence issues.\n",
    "The air viscosity was still set far lower than the viscosity of the polymer.\n",
    "The polymer thermal conductivity is described by the [`kappaTable`](demo/fill_pack/constant/kappaTable) and the specific heat by the [`cpTable`](demo/fill_pack/constant/cpTable) (basic SI units are used with temperature in kelvin).\n",
    "The `cpTable` could have been supplied as pressure dependent by including data points for pressures other than 0, but this would only make sense in modeling a semi-crystalline polymer with lumped latent heat released at higher crystallization temperatures in case of higher pressure.\n",
    "The syntax for two (0 and 100 MPa -- probably not enough) pressure data points would have been:\n",
    "\n",
    "```\n",
    "(\n",
    "(273.15((0 1377.715)(1e8 1477.715)))\n",
    "(323.15((0 1482.72013)(1e8 1582.72013)))\n",
    "(328.15((0 1493.23916)(1e8 1593.23916)))\n",
    "...\n",
    "(390.15((0 1967.39298)(1e8 2067.39298)))\n",
    "(392.15((0 1971.60316)(1e8 2071.60316)))\n",
    "(623.15((0 2456.715)(1e8 2556.715)))\n",
    ")\n",
    "```"
   ]
  },
  {
   "cell_type": "markdown",
   "metadata": {},
   "source": [
    "#### Boundary conditions"
   ]
  },
  {
   "cell_type": "markdown",
   "metadata": {},
   "source": [
    "Boundary conditinos are set together with the initial conditions in the [org0](demo/fill_pack/org0) directory.\n",
    "\n",
    "The thermal boundary conditions account for the [heat transfer coefficient](https://en.wikipedia.org/wiki/Heat_transfer_coefficient) with the `externalWallHeatFluxTemperature` keyword.\n",
    "See the [org0/T](demo/fill_pack/org0/T) file.\n",
    "The keyword `h` sets the value of the heat transfer coefficient.\n",
    "The keyword `Ta` is the mold temperature.\n",
    "The keyword `kappa` is required for the boundary condition to obtain the material thermal conductivity (this way the temperature gradient can be used to calculate the heat flux).\n",
    "Since the solver uses a non-constant thermal conductivity (dependent on temperature and pressure) it makes this value available to the boundary condition by writing the field `mojKappaOut`.\n",
    "This field is not written to the results time folder because it is of little value for the post processing."
   ]
  },
  {
   "cell_type": "markdown",
   "metadata": {},
   "source": [
    "The inlet pressure at P1 is set to match the experiment by calling the external file [fim_01_01_F_00_00_01_08.txt](demo/fill_pack/fim_01_01_F_00_00_01_08.txt) from [org0/p_rgh](demo/fill_pack/org0/p_rgh).\n",
    "\n",
    "```c++\n",
    "    inlet\n",
    "    {\n",
    "       type uniformFixedValue;\n",
    "       uniformValue table \n",
    "#      include \"$FOAM_CASE/fim_01_01_F_00_00_01_08.txt\"\n",
    "    }\n",
    "```"
   ]
  },
  {
   "cell_type": "markdown",
   "metadata": {},
   "source": [
    "#### Procedure"
   ]
  },
  {
   "cell_type": "markdown",
   "metadata": {},
   "source": [
    "The simulation procedure is set in the [`AllRun`](demo/fill_pack/AllRun) script.\n",
    "Venting the air out of the cavity requires designating an outlet for the filling phase and closing it for the packing phase.\n",
    "\n",
    "Initial files are first set.\n",
    "\n",
    "```shell\n",
    "# Initial files\n",
    "cp -r org0 0\n",
    "cp system/controlDict0 system/controlDict\n",
    "cp system/fvSolution0 system/fvSolution\n",
    "blockMesh\n",
    "setFields\n",
    "```\n",
    "\n",
    "This copies the initial and boundary conditions from `org0` to the `0` directory (where they may be modified by the code).\n",
    "The `AllRun` script runs the solver multiple times with different settings (e.g. each time extending the simulation time).\n",
    "Therefore, `controlDict0` and `fvSolution0` are the initial non-modified versions.\n",
    "`blockMesh` creates the mesh.\n",
    "`setFields` puts a small amount of material at the gate to make the simulation start better conditioned -- prevent high injection velocities due to small inertia of the air-filled cavity."
   ]
  },
  {
   "cell_type": "markdown",
   "metadata": {},
   "source": [
    "The following runs the filliing phase with the outlet open and renames the log file corresponding to the filling phase.\n",
    "\n",
    "```shell\n",
    "# fill\n",
    "phase='_fill'\n",
    "runApplication $application\n",
    "mv 'log.'$application 'log.'$application$phase\n",
    "```"
   ]
  },
  {
   "cell_type": "markdown",
   "metadata": {},
   "source": [
    "The following code seals the outlet and runs the first portion of the packing phase.\n",
    "\n",
    "```shell\n",
    "# pack1\n",
    "phase='_pack1'\n",
    "sed -i -e 's/^deltaT\\s.*;/deltaT 1e-10;/g' 0.135/uniform/time # change init deltaT\n",
    "changeDictionary -latestTime -dict system/changeDictionaryDict.bcpack\n",
    "changeDictionary -instance system -dict system/changeDictionaryDict.ctrl1\n",
    "runApplication $application\n",
    "mv 'log.'$application 'log.'$application$phase\n",
    "```\n"
   ]
  },
  {
   "cell_type": "markdown",
   "metadata": {},
   "source": [
    "The change in the boundary conditions implies a very sudden change in the solution development which was resolved by reducing the time step with the `sed` replacement in the last results dictionary.\n",
    "The keyword `deltaT` from the `system/controlDict` is ignored in an analysis starting from the `latestTime` and the initial time step in a restart analysis is read from the `0.135/uniform/time` file.\n",
    "Using `sed` inside of `AllRun` is indeed cumbersome, since care must be taken to match the directory name."
   ]
  },
  {
   "cell_type": "markdown",
   "metadata": {},
   "source": [
    "### Results"
   ]
  },
  {
   "cell_type": "markdown",
   "metadata": {},
   "source": [
    "The evolution of the fields can be viewed by calling `paraFoam` from within the case directory."
   ]
  },
  {
   "cell_type": "markdown",
   "metadata": {},
   "source": [
    "#### Filling progress"
   ]
  },
  {
   "cell_type": "markdown",
   "metadata": {},
   "source": [
    "The `alpha.poly` field describes the phase distribution. If its value is 1, it means the space is occupied by the polymer. If it's 0, it's occupied by the air."
   ]
  },
  {
   "cell_type": "markdown",
   "metadata": {},
   "source": [
    "![Selection_019.png](tutorials_img/Selection_019.png)"
   ]
  },
  {
   "cell_type": "markdown",
   "metadata": {},
   "source": [
    "#### Filling pressure"
   ]
  },
  {
   "cell_type": "markdown",
   "metadata": {},
   "source": [
    "![Selection_020.png](tutorials_img/Selection_020.png)"
   ]
  },
  {
   "cell_type": "markdown",
   "metadata": {},
   "source": [
    "#### Packing pressure"
   ]
  },
  {
   "cell_type": "markdown",
   "metadata": {
    "hide_input": false
   },
   "source": [
    "$$t = 1.1\\; \\mathrm{s}$$"
   ]
  },
  {
   "cell_type": "markdown",
   "metadata": {},
   "source": [
    "![Selection_021.png](tutorials_img/Selection_021.png)"
   ]
  },
  {
   "cell_type": "markdown",
   "metadata": {},
   "source": [
    "#### Packing temperature"
   ]
  },
  {
   "cell_type": "markdown",
   "metadata": {
    "hide_input": false
   },
   "source": [
    "$$t = 1.1\\; \\mathrm{s}$$"
   ]
  },
  {
   "cell_type": "markdown",
   "metadata": {},
   "source": [
    "![Selection_022.png](tutorials_img/Selection_022.png)"
   ]
  },
  {
   "cell_type": "markdown",
   "metadata": {},
   "source": [
    "#### Pressure evolution"
   ]
  },
  {
   "cell_type": "markdown",
   "metadata": {},
   "source": [
    "A steeper than measured pressure decrease during packing is expected due to the assumption of the rigid mold walls [(see paper)](http://rdcu.be/lfnt)."
   ]
  },
  {
   "cell_type": "markdown",
   "metadata": {},
   "source": [
    "![filling](demo/plot.png)"
   ]
  },
  {
   "cell_type": "markdown",
   "metadata": {},
   "source": [
    "## Test"
   ]
  },
  {
   "cell_type": "markdown",
   "metadata": {},
   "source": [
    "Some numerical validations are included.\n",
    "* **Viscosity** -- `crossWLF`: The viscosity in the model must adhere to the Cross-WLF model.\n",
    "* **Heat transfer** -- `heatTranser`: The heat transfer in the model mush be a proper solution of the heat diffussion equation.\n",
    "* **Solid shear modulus value** -- `shearModulus`: The value of the shear modulus of the solid phase.\n",
    "* **Equation of state** -- `taitEq`: The specific volume of the melt."
   ]
  },
  {
   "cell_type": "markdown",
   "metadata": {},
   "source": [
    "### Viscosity: `crossWLF`"
   ]
  },
  {
   "cell_type": "markdown",
   "metadata": {},
   "source": [
    "A virtual rheometer was set up following the example from the [sourceflux.de blog post](http://www.sourceflux.de/blog/shear-rheometer-openfoam/).\n",
    "The viscosity in the model is calculated as if it were measured in an experiment and this value is verified to match the Cross-WLF model value, calculated in the supplied python script. \n",
    "The geometry was modified to a cuboid cavity to make the shear rate field constant in the whole domain (i.e. homogenious).\n",
    "An additional library `mojLibForces` (provided in the solver directory) needs to be compiled to enable the force calculation. "
   ]
  },
  {
   "cell_type": "markdown",
   "metadata": {
    "hide_input": false
   },
   "source": [
    "![segment_strig_gh_01](tutorials_img/segment_strig_gh_01.png)"
   ]
  },
  {
   "cell_type": "markdown",
   "metadata": {},
   "source": [
    "#### Analysis"
   ]
  },
  {
   "cell_type": "markdown",
   "metadata": {
    "hide_input": false
   },
   "source": [
    "The force on the top face of the cuboid\n",
    "is the product of the constant shear stress\n",
    "$\\tau$ and the surface area $A_0$:\n",
    "\n",
    "\\begin{equation}\n",
    "F = A_0 \\cdot \\tau = A_0 \\cdot \\dot\\gamma \\eta =  A_0 \\cdot U /\\mathrm{Thc} \\; \\eta.\n",
    "\\end{equation}\n",
    "\n",
    "\\begin{align}\n",
    "\\dot\\gamma \\ldots \\mathrm{shear\\;rate}\\\\\n",
    "\\eta \\ldots \\mathrm{viscosity}\\\\\n",
    "U \\ldots \\mathrm{velocity}\\\\\n",
    "\\mathrm{Thc} \\ldots \\mathrm{thickness}\n",
    "\\end{align}"
   ]
  },
  {
   "cell_type": "markdown",
   "metadata": {},
   "source": [
    "##### Calculation"
   ]
  },
  {
   "cell_type": "markdown",
   "metadata": {},
   "source": [
    "The following is basically the [analyze.py](test/crossWLF/case_00_org/analyze.py) script.\n",
    "It assumes the simulation has been performed."
   ]
  },
  {
   "cell_type": "code",
   "execution_count": 96,
   "metadata": {},
   "outputs": [
    {
     "data": {
      "image/png": "[encoded data removed]",
      "text/plain": [
       "<Figure size 432x288 with 1 Axes>"
      ]
     },
     "metadata": {},
     "output_type": "display_data"
    }
   ],
   "source": [
    "import numpy as np\n",
    "from matplotlib import pyplot as plt\n",
    "import re\n",
    "import os\n",
    "import io\n",
    "\n",
    "class crossWLFcase: #namespace\n",
    "    \n",
    "    def crossWLF(T, shr, p):\n",
    "        n    = 0.252 #1\n",
    "        Tau  = 30800.0 #Pa\n",
    "        D1   = 4.76e10 #Pa s\n",
    "        D2   = 373.15 #K\n",
    "        D3   = 0.51e-6 #K\n",
    "        A1   = 25.7 #1\n",
    "        A2   = 61.06 #K\n",
    "        Tz   = D2\n",
    "        eta0 = D1 * np.exp( -A1 * (T-Tz-D3*p) /(A2 + (T-Tz)) )\n",
    "        eta  = eta0 / ( 1 + np.power( eta0 * shr / Tau , 1-n) )\n",
    "        return min(eta,1e7) #constant/thePr.polz/etaMax=1e7 Pas\n",
    "\n",
    "    p = 60e6 # Pa\n",
    "    L = 5e-5 # m\n",
    "    W = 5e-5 # m\n",
    "    Thc = 0.001 # m\n",
    "    U = 1e-4 # m/s\n",
    "    A0 = L*W\n",
    "    shr = U/Thc\n",
    "    \n",
    "    # parameters to use\n",
    "    Tlow = 120.0 # degC\n",
    "    Thigh = 350.0 # degC\n",
    "    dTpl = 2 # degC\n",
    "    params = np.arange(Tlow, Thigh, 30.0) # degC\n",
    "    forceAr = np.empty([len(params)]) # \n",
    "    Tax = np.arange(Tlow, Thigh, dTpl) # degC\n",
    "    vCrs = np.empty([len(Tax)]) # \n",
    "\n",
    "    # loop through params\n",
    "    for i in range(len(params)):\n",
    "            # loop through params\n",
    "        dest = 'case_' + str(i+1).zfill(2)\n",
    "\n",
    "        forcesFileName = os.path.realpath(\"./test/crossWLF/\" + dest + \"/postProcessing/forces/0/forces.dat\")\n",
    "\n",
    "        with open(forcesFileName) as file:\n",
    "            forcesFileContent = file.read()\n",
    "        \n",
    "        forcesFileContent = re.sub('[()]', '', forcesFileContent)+\"\\n\"\n",
    "        #forcesFileContent = \"\\n\".join(forcesFileContent)\n",
    "        #print(forcesFileContent)\n",
    "        #forces = np.loadfromtxt(io.BytesIO(elsNdsStr.encode(), skiprows=3)\n",
    "        forces = np.loadtxt(io.BytesIO(forcesFileContent.encode()), skiprows=3)\n",
    "\n",
    "        forceAr[i] = forces[-1, 5]\n",
    "\n",
    "    # loop through params\n",
    "    for i in range(len(Tax)):\n",
    "        vCrs[i] = crossWLF(Tax[i]+273.15, shr, p)\n",
    "    \n",
    "    visc = forceAr/(A0 * shr)\n",
    "\n",
    "    fig, ax = plt.subplots(1)\n",
    "\n",
    "    #labels = [\"$F_{visc}$, final [N]: %.4E\" % force[-1] ]\n",
    "    t2 = np.arange(0.0, 5.0, 0.02)\n",
    "    \n",
    "    plt.xlabel(\"Temperature [°C]\")\n",
    "    plt.ylabel(\"Viscosity [Pas]\")\n",
    "    plt.semilogy(params, visc, 'bo',label=\"OpenFOAM\")\n",
    "    plt.semilogy(Tax, vCrs, 'k',label=\"Python\")\n",
    "    plt.legend(bbox_to_anchor=(1.05, 1), loc=2, borderaxespad=0.)\n",
    "     \n"
   ]
  },
  {
   "cell_type": "markdown",
   "metadata": {},
   "source": [
    "##### Shear rate field"
   ]
  },
  {
   "cell_type": "markdown",
   "metadata": {},
   "source": [
    "The shear rate field is practically homogeneous and approximately 100.0 1/s."
   ]
  },
  {
   "cell_type": "markdown",
   "metadata": {},
   "source": [
    "![Selection_025.png](tutorials_img/Selection_025.png)"
   ]
  },
  {
   "cell_type": "markdown",
   "metadata": {},
   "source": [
    "##### Domain"
   ]
  },
  {
   "cell_type": "markdown",
   "metadata": {},
   "source": [
    "The solution does not change along *y*.\n",
    "The domain could be made smaller by making the length *L* shorter."
   ]
  },
  {
   "cell_type": "markdown",
   "metadata": {},
   "source": [
    "### Heat transfer: `heatTransfer`"
   ]
  },
  {
   "cell_type": "markdown",
   "metadata": {},
   "source": [
    "A test of the energy equation solution is performed.\n",
    "The case was modified to match a 1D [heat transfer](https://en.wikipedia.org/wiki/Heat_equation) case of a solid which was simulated using the finite element method.\n",
    "A more elegant way of doing this would be to calculate the temperature field evolution in a python script.\n",
    "The temperature evolutions in the wall center are compared.\n",
    "This example does not consider the possibiliy where density nonhomogeneity would introduce a discrepancy."
   ]
  },
  {
   "cell_type": "markdown",
   "metadata": {},
   "source": [
    "#### Temperature field"
   ]
  },
  {
   "cell_type": "markdown",
   "metadata": {},
   "source": [
    "Below is the temperature field at $t = 4$ s in Celsius. \n",
    "The material is being heated through the left- and right-hand side faces where contact to a hot mold is assumed."
   ]
  },
  {
   "cell_type": "markdown",
   "metadata": {},
   "source": [
    "![Selection_026.png](tutorials_img/Selection_026.png)"
   ]
  },
  {
   "cell_type": "markdown",
   "metadata": {},
   "source": [
    "#### Temperature evolution"
   ]
  },
  {
   "cell_type": "code",
   "execution_count": 10,
   "metadata": {
    "hide_input": true
   },
   "outputs": [
    {
     "data": {
      "image/png": "[encoded data removed]",
      "text/plain": [
       "<matplotlib.figure.Figure at 0x7f41f3806240>"
      ]
     },
     "metadata": {},
     "output_type": "display_data"
    }
   ],
   "source": [
    "import numpy as np\n",
    "from matplotlib import pyplot as plt\n",
    "import os\n",
    "\n",
    "class heatTransferCase: #namespace\n",
    "    \n",
    "    #load OF data\n",
    "    fileNameOF = os.path.realpath(\"./test/heatTransfer/postProcessing/probes/0/Tc\")\n",
    "    Tc = np.loadtxt(fileNameOF, skiprows=3)\n",
    "    \n",
    "    #load FEM data\n",
    "    fileNameFEM = os.path.realpath(\"./test/heatTransfer/referenceTEvol.dat\")\n",
    "    TcFEM = np.loadtxt(fileNameFEM)\n",
    "\n",
    "    fig, ax = plt.subplots(1)\n",
    "\n",
    "    labels = [\"here\", \"FEM\"]\n",
    "\n",
    "    plt.xlabel(\"Time [s]\")\n",
    "    plt.ylabel(\"Temperature [deg C]\")\n",
    "    plt.plot(Tc[:,0], Tc[:,1], color='red')\n",
    "    plt.plot(TcFEM[:,0], TcFEM[:,1], '--', color='blue')\n",
    "    plt.legend(labels, loc=\"center right\")\n",
    "    #plt.savefig('heatTransfer.png')\n",
    "    plt.show()"
   ]
  },
  {
   "cell_type": "markdown",
   "metadata": {},
   "source": [
    "### Solid shear modulus vaule: `shearModulus`"
   ]
  },
  {
   "cell_type": "markdown",
   "metadata": {},
   "source": [
    "Stress in the solid develops with the deformation of the solid.\n",
    "This test validates that the `shearModulus` setting in the [solidificationProperties](test/shearModulus/constant/solidificationProperties0) dictionary implies the value of the calculated stress in the solid."
   ]
  },
  {
   "cell_type": "markdown",
   "metadata": {},
   "source": [
    "#### Procedure"
   ]
  },
  {
   "cell_type": "markdown",
   "metadata": {},
   "source": [
    "The simulation is composed of two `openInjMoldSim` calls.\n",
    "The `solidificationProperties` are modified inbetween so the initial file is being kept under a different name.\n",
    "The `controlDict` likewise."
   ]
  },
  {
   "cell_type": "markdown",
   "metadata": {},
   "source": [
    "```shell\n",
    "# Initial files\n",
    "cp -r org0 0\n",
    "cp system/controlDict0 system/controlDict\n",
    "cp constant/solidificationProperties0 constant/solidificationProperties\n",
    "blockMesh\n",
    "```"
   ]
  },
  {
   "cell_type": "markdown",
   "metadata": {},
   "source": [
    "During the first run no solid stress is present because the [solidificationProperties](test/shearModulus/constant/solidificationProperties0) prohibit it with value of the `shrRateLimEl` keyword.\n",
    "This could also be achieved by a very high value for `viscLimEl`. The `solidificationProperties` dictinary in the first run reads:"
   ]
  },
  {
   "cell_type": "markdown",
   "metadata": {},
   "source": [
    "```c\n",
    "shearModulus 600e6;//Pa\n",
    "\n",
    "shrRateLimEl -1.0;//1/s  //elasticity appears at lower shear rates than this\n",
    "\n",
    "viscLimEl -1.0;//1/s  //elasticity appears at higher viscosities than this\n",
    "```"
   ]
  },
  {
   "cell_type": "markdown",
   "metadata": {},
   "source": [
    "The first run establishes a simple shearing field -- like in the `crossWLF` case.\n",
    "\n",
    "The [`Allrun`](test/shearModulus/Allrun) script then changes the `shrRateLimEl` keyword."
   ]
  },
  {
   "cell_type": "markdown",
   "metadata": {},
   "source": [
    "```shell\n",
    "changeDictionary -instance constant -dict system/changeDictionaryDict.cons\n",
    "```"
   ]
  },
  {
   "cell_type": "markdown",
   "metadata": {},
   "source": [
    "The [system/changeDictionaryDict.cons](test/shearModulus/system/changeDictionaryDict.cons) dictionary cotains the following (to allow the elastic stress to develop):\n",
    "```c\n",
    "dictionaryReplacement\n",
    "{\n",
    "    solidificationProperties\n",
    "    {\n",
    "        shrRateLimEl 1e10;//1/s\n",
    "    }\n",
    "}\n",
    "```"
   ]
  },
  {
   "cell_type": "markdown",
   "metadata": {},
   "source": [
    "#### Analysis"
   ]
  },
  {
   "cell_type": "markdown",
   "metadata": {},
   "source": [
    "The second run with the development of the elastic stress simulates $\\Delta t = 10^{-6}$ s of material shearing at the shearing rate of $\\dot\\gamma = 100$ 1/s.\n",
    "The affected strain tensor component at the end is expected to be\n",
    "\n",
    "$\\tau = G \\; \\dot\\gamma \\; \\Delta t = 600 \\cdot 10^{6} \\cdot 100 \\cdot 10^{-6} = 60$ kPa\n",
    "\n"
   ]
  },
  {
   "cell_type": "markdown",
   "metadata": {},
   "source": [
    "This matches the calculated value inspected with `paraView`. "
   ]
  },
  {
   "cell_type": "markdown",
   "metadata": {},
   "source": [
    "![Selection_027.png](tutorials_img/Selection_027.png)"
   ]
  },
  {
   "cell_type": "markdown",
   "metadata": {},
   "source": [
    "#### Limitation"
   ]
  },
  {
   "cell_type": "markdown",
   "metadata": {},
   "source": [
    "This test, unfortunately, does not validate whether the this stress correctly acts on the material.\n",
    "Such a validation is not available with the same procedure as used in the case of `crossWLF` viscosity because of the way the wall force is calculated in the `crossWLF` case (view the `mojForcesLib` library in the solver directory).\n",
    "On the other hand, it can be verified that the solid stress does stop the material flow in the packing phase which is a strong indication that it correctly acts on the material (solid stress can be eliminated in the demo case by deleting or renaming the [`constant/solidificatinoProperties`](demo/fill_pack/constant/solidificationProperties) dictionary)."
   ]
  },
  {
   "cell_type": "markdown",
   "metadata": {},
   "source": [
    "#### The use of the `solidificationProperties` dictionary"
   ]
  },
  {
   "cell_type": "markdown",
   "metadata": {},
   "source": [
    "Elastic shear modulus is effected when the viscosity surpasses the viscosity threshold `viscLimEl` specified in the `solidificationProperties`\n",
    "dictionary. To control this according to temperature, change the `TnoFlow` temperature of the CrossWLF model in the `constant/thermophysicalProperties.poly` dictionary.\n",
    "Mind the `etaMax` value to be greater than `viscLimEl` to have it surpass the threshold.\n",
    "According to\n",
    "experience, elastic behavior should be limited to slow flow. This is effected with the `shearRate` limit."
   ]
  },
  {
   "cell_type": "markdown",
   "metadata": {},
   "source": [
    "### Equation of state: `taitEq`"
   ]
  },
  {
   "cell_type": "markdown",
   "metadata": {},
   "source": [
    "The specific volume in the model is verified to follow the Tait equation.\n",
    "The material is fully contained and heated.\n",
    "Temperature and pressure both increase but density can only change due to redistribution of mass since the total mass and volume remain constant.\n",
    "\n",
    "The following is the density field at $t = 1$ s."
   ]
  },
  {
   "cell_type": "markdown",
   "metadata": {},
   "source": [
    "![Selection_028.png](tutorials_img/Selection_028.png)"
   ]
  },
  {
   "cell_type": "markdown",
   "metadata": {},
   "source": [
    "#### Analysis"
   ]
  },
  {
   "cell_type": "markdown",
   "metadata": {},
   "source": [
    "Temperature, pressure and density are probed in the cavity center.\n",
    "Assuming the temperature and pressure in the model, the density is calculated with python and compared to the density probed at the center of the cavity by the simulation.\n",
    "\n",
    "The following is effectively the [analyze.py](test/taitEq/analyze.py) script."
   ]
  },
  {
   "cell_type": "code",
   "execution_count": 19,
   "metadata": {},
   "outputs": [
    {
     "data": {
      "image/png": "[encoded data removed]",
      "text/plain": [
       "<matplotlib.figure.Figure at 0x7f41f370e208>"
      ]
     },
     "metadata": {},
     "output_type": "display_data"
    }
   ],
   "source": [
    "import numpy as np\n",
    "from matplotlib import pyplot as plt\n",
    "\n",
    "class taitEqCase: # namespace\n",
    "\n",
    "    def tait(T, p):\n",
    "        b1m    =    9.76e-4\n",
    "        b2m    =    5.8e-7\n",
    "        b3m    =    1.67e8\n",
    "        b4m    =    3.6e-3\n",
    "        b1s    =    9.76e-4\n",
    "        b2s    =    2.3e-7\n",
    "        b3s    =    2.6e8\n",
    "        b4s    =    3.0e-3\n",
    "        b5     =    373.0\n",
    "        b6     =    5.1e-7\n",
    "        b7     =    0.0\n",
    "        b8     =    0.0\n",
    "        b9     =    0.0\n",
    "        Cuniv  =    0.0894\n",
    "        if T > b5 + b6*p:\n",
    "            v0 = b1m + b2m * (T-b5)\n",
    "            B = b3m * np.exp(-b4m * (T-b5))\n",
    "            v1 = 0.0\n",
    "        else:\n",
    "            v0 = b1s + b2s * (T-b5)\n",
    "            B = b3s * np.exp(-b4s * (T-b5))\n",
    "            v1 = b7 * np.exp(b8 * (T-b5) - b9*p)\n",
    "        specV = v0 * ( 1.0 - Cuniv* np.log(1.0 + p/B)) + v1\n",
    "        return specV\n",
    "\n",
    "        \n",
    "    pressFileName = os.path.realpath(\"./test/taitEq/postProcessing/probes/0/p\")\n",
    "    tmprFileName = os.path.realpath(\"./test/taitEq/postProcessing/probes/0/Tc\")\n",
    "    rhoFileName = os.path.realpath(\"./test/taitEq/postProcessing/probes/0.05/rho\")\n",
    "\n",
    "    press = np.loadtxt(pressFileName, skiprows=3)\n",
    "    tmpr = np.loadtxt(tmprFileName, skiprows=3)\n",
    "    rho = np.loadtxt(rhoFileName, skiprows=3)\n",
    "    n_vals = len(tmpr[:,0])\n",
    "    dens = np.zeros((n_vals,2))\n",
    "\n",
    "    for i in range(n_vals):\n",
    "        dens[i,1] = 1/tait(tmpr[i,1]+273.15, press[i,1])\n",
    "        dens[i,0] = tmpr[i,0]\n",
    "\n",
    "    fig, ax = plt.subplots(1)\n",
    "\n",
    "    labels = [\"$\\\\rho_{py}(T_{OF}(t),p_{OF}(t))$\", \"$\\\\rho_{OF}(t)$\"]\n",
    "    axes = plt.gca()\n",
    "    plt.xlabel(\"Time [s]\")\n",
    "    plt.ylabel(\"Density [kg/m3]\")\n",
    "    plt.plot(dens[:,0], dens[:,1], color='red')\n",
    "    plt.plot(rho[:,0], rho[:,1], color='blue', linestyle='dashed')\n",
    "    plt.legend(labels, loc=\"center right\")\n",
    "    #plt.savefig('densityInTime.png')\n",
    "    plt.show()"
   ]
  }
 ],
 "metadata": {
  "kernelspec": {
   "display_name": "Python 3",
   "language": "python",
   "name": "python3"
  },
  "language_info": {
   "codemirror_mode": {
    "name": "ipython",
    "version": 3
   },
   "file_extension": ".py",
   "mimetype": "text/x-python",
   "name": "python",
   "nbconvert_exporter": "python",
   "pygments_lexer": "ipython3",
   "version": "3.6.3"
  }
 },
 "nbformat": 4,
 "nbformat_minor": 2
}
